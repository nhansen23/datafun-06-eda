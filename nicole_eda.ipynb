{
 "cells": [
  {
   "cell_type": "code",
   "execution_count": null,
   "metadata": {},
   "outputs": [],
   "source": [
    "# Exploratory Data Analysis of Olympic Athlete Data\n",
    "\n",
    "This project will explore the historical data of \n",
    "Olympic athletes and their events.\n",
    "\n",
    "Author: Nicole Hansen\n",
    "Date:  02/08/2024"
   ]
  },
  {
   "cell_type": "code",
   "execution_count": 2,
   "metadata": {},
   "outputs": [],
   "source": [
    "# Import Standard Libraries\n",
    "import pathlib\n",
    "import sqlite3\n",
    "import statistics"
   ]
  },
  {
   "cell_type": "code",
   "execution_count": 3,
   "metadata": {},
   "outputs": [],
   "source": [
    "# Import External Libraries\n",
    "import matplotlib.pyplot as plt\n",
    "import pandas as pd\n",
    "import seaborn as sns\n",
    "import jupyterlab\n",
    "import pyarrow"
   ]
  },
  {
   "cell_type": "code",
   "execution_count": null,
   "metadata": {},
   "outputs": [],
   "source": [
    "# Query to create data set to explore\n",
    "conn = sqlite3.connect('olympics.db')\n",
    "\n",
    "data_source = pd.read_sql(\n",
    "    'SELECT ID as athlete_id, Name as athlete_name, Sex as gender, age, team, athletes.noc, games, year, season, city, sport, event, medal,region FROM athletes INNER JOIN countries ON athletes.noc = countries.noc', \n",
    "    conn, index_col=['athlete_id'])\n",
    "\n",
    "# print(data_source.head())"
   ]
  },
  {
   "cell_type": "markdown",
   "metadata": {},
   "source": [
    "# Initial Data Inspection"
   ]
  },
  {
   "cell_type": "code",
   "execution_count": null,
   "metadata": {},
   "outputs": [],
   "source": [
    "print(data_source.describe())"
   ]
  }
 ],
 "metadata": {
  "kernelspec": {
   "display_name": "Python 3",
   "language": "python",
   "name": "python3"
  },
  "language_info": {
   "codemirror_mode": {
    "name": "ipython",
    "version": 3
   },
   "file_extension": ".py",
   "mimetype": "text/x-python",
   "name": "python",
   "nbconvert_exporter": "python",
   "pygments_lexer": "ipython3",
   "version": "3.12.1"
  }
 },
 "nbformat": 4,
 "nbformat_minor": 2
}
